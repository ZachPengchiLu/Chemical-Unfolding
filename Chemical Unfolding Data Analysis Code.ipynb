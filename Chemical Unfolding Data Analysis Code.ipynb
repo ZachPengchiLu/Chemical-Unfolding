{
 "cells": [
  {
   "cell_type": "code",
   "execution_count": null,
   "id": "212ab1c1",
   "metadata": {},
   "outputs": [],
   "source": [
    "import numpy as np\n",
    "import matplotlib.pyplot as plt\n",
    "import pandas as pd\n",
    "from scipy.optimize import curve_fit\n",
    "from scipy import stats"
   ]
  },
  {
   "cell_type": "code",
   "execution_count": null,
   "id": "503b1549",
   "metadata": {},
   "outputs": [],
   "source": [
    "df0 = pd.read_excel ('Chemical Unfolding Coding Sheet.xlsx', sheet_name=0)\n",
    "\n",
    "print(df0)"
   ]
  },
  {
   "cell_type": "code",
   "execution_count": null,
   "id": "f86ebd5b",
   "metadata": {},
   "outputs": [],
   "source": [
    "x1 = [0, 1, 2, 2.125, 2.25, 2.375, 2.5, 2.625, 2.65, 2.875, 3, 3.25, 3.75, 4, 4.5, 5, 5.5, 6, 6.7, 6.75, 6.77] \n",
    "df0.insert(0, '[GdnHCl]', x1) \n",
    "print(df0)"
   ]
  },
  {
   "cell_type": "code",
   "execution_count": null,
   "id": "39e8c15b",
   "metadata": {},
   "outputs": [],
   "source": [
    "ydata1=df0['Horse Heart Chemical Unfolding 1']\n",
    "ydata2=df0['Horse Heart Chemical Unfolding 2']\n",
    "ydata3=df0['Horse Heart Chemical Unfolding 3']\n",
    "ydata4=df0['Bovine Heart Chemical Unfolding 1']\n",
    "ydata5=df0['Bovine Heart Chemical Unfolding 2']\n",
    "ydata6=df0['Bovine Heart Chemical Unfolding 3']\n",
    "\n",
    "plt.figure(figsize=(7,5))\n",
    "plt.plot(x1, ydata1, 'o', color='black', markersize=8)\n",
    "plt.plot(x1, ydata2, 'o', color='black', markersize=8)\n",
    "plt.plot(x1, ydata3, 'o', color='black', markersize=8)\n",
    "plt.plot(x1, ydata4, 'o', color='gray', markersize=8)\n",
    "plt.plot(x1, ydata5, 'o', color='gray', markersize=8)\n",
    "plt.plot(x1, ydata6, 'o', color='gray', markersize=8)\n",
    "plt.title('Chemical Unfolding', fontsize=18)\n",
    "plt.xlabel('$[GdnHCl]$ (M)', fontsize=14)\n",
    "plt.ylabel('Fluorescence Signal', fontsize=14)\n",
    "plt.show"
   ]
  },
  {
   "cell_type": "code",
   "execution_count": null,
   "id": "71d7be44",
   "metadata": {},
   "outputs": [],
   "source": [
    "df0['Horse-mean'] = df0.iloc[:,1:4].mean(axis=1)  \n",
    "df0['Horse-std'] = df0.iloc[:,1:4].std(axis=1)\n",
    "\n",
    "df0['Bovine-mean'] = df0.iloc[:,4:7].mean(axis=1)  \n",
    "df0['Bovine-std'] = df0.iloc[:,4:7].std(axis=1)\n",
    "print(df0)"
   ]
  },
  {
   "cell_type": "code",
   "execution_count": null,
   "id": "b8235641",
   "metadata": {},
   "outputs": [],
   "source": [
    "def chemicalunfoldingH(x, yn, mn, yu, mu, DGu, m):\n",
    "    \n",
    "    return ((yn + mn * x) + (yu + mu * x) * np.exp(-((DGu + m * x) / (8.314 * (273.15 + temp))))) / (1 + np.exp(-((DGu + m * x) / (8.314 * (273.15 + temp)))))\n",
    "\n",
    "def chemicalunfoldingB(x, yn, mn, yu, mu, DGu, m):\n",
    "    \n",
    "    return ((yn + mn * x) + (yu + mu * x) * np.exp(-((DGu + m * x) / (8.314 * (273.15 + temp))))) / (1 + np.exp(-((DGu + m * x) / (8.314 * (273.15 + temp)))))"
   ]
  },
  {
   "cell_type": "code",
   "execution_count": null,
   "id": "580ed3ee",
   "metadata": {},
   "outputs": [],
   "source": [
    "temp = 20"
   ]
  },
  {
   "cell_type": "code",
   "execution_count": null,
   "id": "0cba089e",
   "metadata": {},
   "outputs": [],
   "source": [
    "paramsH, params_covarianceH = curve_fit(chemicalunfoldingH, x1,df0['Horse-mean'],[-1314835, 0, 18260674, 0.1, 20000, -5000]) \n",
    "\n",
    "print(\"yn = \", paramsH[0])\n",
    "print(\"Standard error yn = \", np.sqrt(np.diag(params_covarianceH))[0])\n",
    "print(\"mn = \", paramsH[1])\n",
    "print(\"Standard error mn = \", np.sqrt(np.diag(params_covarianceH))[1])\n",
    "print(\"yu = \", paramsH[2])\n",
    "print(\"Standard error yu = \", np.sqrt(np.diag(params_covarianceH))[2])\n",
    "print(\"mu = \", paramsH[3])\n",
    "print(\"Standard error mu = \", np.sqrt(np.diag(params_covarianceH))[3])\n",
    "print(\"DGu = \", paramsH[4])\n",
    "print(\"Standard error DGu = \", np.sqrt(np.diag(params_covarianceH))[4])\n",
    "print(\"m = \", paramsH[5])\n",
    "print(\"Standard error m = \", np.sqrt(np.diag(params_covarianceH))[5])"
   ]
  },
  {
   "cell_type": "code",
   "execution_count": null,
   "id": "be9a6479",
   "metadata": {},
   "outputs": [],
   "source": [
    "paramsB, params_covarianceB = curve_fit(chemicalunfoldingB, x1,df0['Bovine-mean'],[-1314835, 0, 18260674, 0.1, 20000, -5000]) \n",
    "\n",
    "print(\"yn = \", paramsB[0])\n",
    "print(\"Standard error yn = \", np.sqrt(np.diag(params_covarianceB))[0])\n",
    "print(\"mn = \", paramsB[1])\n",
    "print(\"Standard error mn = \", np.sqrt(np.diag(params_covarianceB))[1])\n",
    "print(\"yu = \", paramsB[2])\n",
    "print(\"Standard error yu = \", np.sqrt(np.diag(params_covarianceB))[2])\n",
    "print(\"mu = \", paramsB[3])\n",
    "print(\"Standard error mu = \", np.sqrt(np.diag(params_covarianceB))[3])\n",
    "print(\"DGu = \", paramsB[4])\n",
    "print(\"Standard error DGu = \", np.sqrt(np.diag(params_covarianceB))[4])\n",
    "print(\"m = \", paramsB[5])\n",
    "print(\"Standard error m = \", np.sqrt(np.diag(params_covarianceB))[5])"
   ]
  },
  {
   "cell_type": "code",
   "execution_count": null,
   "id": "f4690132",
   "metadata": {},
   "outputs": [],
   "source": [
    "xin=np.linspace(0,10,100)\n",
    "\n",
    "resid1n = df0['Horse-mean'] - chemicalunfoldingH(df0['[GdnHCl]'], *paramsH) \n",
    "resid1n = df0['Bovine-mean'] - chemicalunfoldingB(df0['[GdnHCl]'], *paramsB)\n",
    "\n",
    "fig = plt.figure(figsize=(7,5)) \n",
    "\n",
    "xlimits = [0, 7] \n",
    "\n",
    "ax1 = fig.add_axes([0.1, 0.51, 1, 0.81]) \n",
    "\n",
    "ax1.errorbar(df0['[GdnHCl]'], df0['Horse-mean'], yerr=df0['Horse-std'], fmt='o', color='red', ecolor='red', label='Horse Heart Cytochrome c',capsize=5, capthick=1.5, elinewidth=1)\n",
    "ax1.plot(xin, chemicalunfoldingH(xin, *paramsH), color=\"Red\", linestyle='-', label='Horse Heart Cytochrome c Fit')\n",
    "ax1.errorbar(df0['[GdnHCl]'], df0['Bovine-mean'], yerr=df0['Bovine-std'], fmt='o', color='blue', ecolor='blue', label='Bovine Heart Cytochrome c',capsize=5, capthick=1.5,elinewidth=1)\n",
    "ax1.plot(xin, chemicalunfoldingB(xin, *paramsB), color=\"Blue\", linestyle='-', label='Bovine Heart Cytochrome c Fit')\n",
    "ax1.axis(xlimits + [-6000000, 25100000]) \n",
    "ax1.set_ylabel('Fluorescence Signal (362nm)', fontsize=14)\n",
    "ax1.legend(loc='lower right') \n",
    "plt.xlabel('$[GdnHCl]$ (M)', fontsize=14)\n",
    "plt.title('Chemical Unfolding', fontsize=18)"
   ]
  }
 ],
 "metadata": {
  "kernelspec": {
   "display_name": "Python 3 (ipykernel)",
   "language": "python",
   "name": "python3"
  },
  "language_info": {
   "codemirror_mode": {
    "name": "ipython",
    "version": 3
   },
   "file_extension": ".py",
   "mimetype": "text/x-python",
   "name": "python",
   "nbconvert_exporter": "python",
   "pygments_lexer": "ipython3",
   "version": "3.9.12"
  }
 },
 "nbformat": 4,
 "nbformat_minor": 5
}
